{
 "cells": [
  {
   "cell_type": "code",
   "execution_count": 1,
   "metadata": {},
   "outputs": [
    {
     "name": "stdout",
     "output_type": "stream",
     "text": [
      "a is greater than b\n"
     ]
    }
   ],
   "source": [
    "a  = 5\n",
    "b = 3\n",
    "if a > b :\n",
    "    print(\"a is greater than b\")\n",
    "else:\n",
    "    print(\"b is greater than a\")"
   ]
  },
  {
   "cell_type": "code",
   "execution_count": 3,
   "metadata": {},
   "outputs": [
    {
     "name": "stdout",
     "output_type": "stream",
     "text": [
      "a is greater than b and c\n"
     ]
    }
   ],
   "source": [
    "a  = 5\n",
    "b = 3\n",
    "c = 6\n",
    "if a > b or a > c:\n",
    "    print(\"a is greater than b and c\")\n",
    "elif b > c and b > a:\n",
    "    print(\"b is greater than a and c\")\n",
    "else:\n",
    "    print(\"c is greater than a and b\")"
   ]
  },
  {
   "cell_type": "code",
   "execution_count": 5,
   "metadata": {},
   "outputs": [
    {
     "name": "stdout",
     "output_type": "stream",
     "text": [
      "hello Naman\n"
     ]
    }
   ],
   "source": [
    "name = \"Naman\"\n",
    "if name == 'Raj':\n",
    "    print('hello Raj')\n",
    "elif name == 'Naman':\n",
    "    print('hello Naman')\n",
    "else:\n",
    "    print ('hello what is your name?')\n",
    "    "
   ]
  },
  {
   "cell_type": "code",
   "execution_count": 7,
   "metadata": {},
   "outputs": [
    {
     "name": "stdout",
     "output_type": "stream",
     "text": [
      "12 2 12\n"
     ]
    }
   ],
   "source": [
    "a = 12\n",
    "b = a-10\n",
    "c = 12\n",
    "if a == b or a==c:\n",
    "    print(a , b , c)\n",
    "elif a>b and a>c:\n",
    "    print(a)\n",
    "elif b>a and b>c:\n",
    "    print(b)\n",
    "else:\n",
    "    print(c)\n",
    "    "
   ]
  },
  {
   "cell_type": "code",
   "execution_count": null,
   "metadata": {},
   "outputs": [],
   "source": []
  }
 ],
 "metadata": {
  "kernelspec": {
   "display_name": "Python 3",
   "language": "python",
   "name": "python3"
  },
  "language_info": {
   "codemirror_mode": {
    "name": "ipython",
    "version": 3
   },
   "file_extension": ".py",
   "mimetype": "text/x-python",
   "name": "python",
   "nbconvert_exporter": "python",
   "pygments_lexer": "ipython3",
   "version": "3.6.4"
  }
 },
 "nbformat": 4,
 "nbformat_minor": 2
}
