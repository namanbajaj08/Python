{
 "cells": [
  {
   "cell_type": "code",
   "execution_count": 1,
   "metadata": {},
   "outputs": [],
   "source": [
    "#Creating a function which shows random string"
   ]
  },
  {
   "cell_type": "code",
   "execution_count": 15,
   "metadata": {},
   "outputs": [
    {
     "name": "stdout",
     "output_type": "stream",
     "text": [
      "Cloud Formation\n"
     ]
    }
   ],
   "source": [
    "import random\n",
    "\n",
    "my_list = ['Cloud Computing & its types', 'Iaas Paas Saas','Geoloaction Region AZ Edge location','IAM','S3','Cloud Front',\n",
    "           'Storage Gateway','EFS','EBS','Snow Ball','EC2','Load Balancing','Auto Scaling','Lambda','Route53','Billing',\n",
    "           'Cloud Watch','RDS','Dynamo DB','Elastic Cache','VPC','Kinesis','Cloud Formation','Wordpres Site','SQS SNS SWF']\n",
    "print(random.choice(my_list))"
   ]
  },
  {
   "cell_type": "code",
   "execution_count": 11,
   "metadata": {},
   "outputs": [
    {
     "data": {
      "text/plain": [
       "['Cloud Computing & its types',\n",
       " 'Iaas Paas Saas',\n",
       " 'Geoloaction Region AZ Edge location',\n",
       " 'IAM',\n",
       " 'S3',\n",
       " 'Cloud Front',\n",
       " 'Storage Gateway',\n",
       " 'EFS',\n",
       " 'EBS',\n",
       " 'Snow Ball',\n",
       " 'EC2',\n",
       " 'Load Balancing',\n",
       " 'Auto Scaling',\n",
       " 'Lambda',\n",
       " 'Route53',\n",
       " 'Billing',\n",
       " 'Cloud Watch',\n",
       " 'RDS',\n",
       " 'Dynamo DB',\n",
       " 'Elastic Cache',\n",
       " 'Kinesis',\n",
       " 'Cloud Formation',\n",
       " 'Wordpres Site',\n",
       " 'SQS SNS SWF']"
      ]
     },
     "execution_count": 11,
     "metadata": {},
     "output_type": "execute_result"
    }
   ],
   "source": [
    "my_list"
   ]
  },
  {
   "cell_type": "code",
   "execution_count": 4,
   "metadata": {},
   "outputs": [
    {
     "ename": "NameError",
     "evalue": "name 'random' is not defined",
     "output_type": "error",
     "traceback": [
      "\u001b[1;31m---------------------------------------------------------------------------\u001b[0m",
      "\u001b[1;31mNameError\u001b[0m                                 Traceback (most recent call last)",
      "\u001b[1;32m<ipython-input-4-b5c0af3de1f8>\u001b[0m in \u001b[0;36m<module>\u001b[1;34m()\u001b[0m\n\u001b[1;32m----> 1\u001b[1;33m \u001b[0mprint\u001b[0m\u001b[1;33m(\u001b[0m\u001b[0mrandom\u001b[0m\u001b[1;33m.\u001b[0m\u001b[0mchoice\u001b[0m\u001b[1;33m(\u001b[0m\u001b[0mmy_list\u001b[0m\u001b[1;33m)\u001b[0m\u001b[1;33m)\u001b[0m\u001b[1;33m\u001b[0m\u001b[0m\n\u001b[0m",
      "\u001b[1;31mNameError\u001b[0m: name 'random' is not defined"
     ]
    }
   ],
   "source": []
  },
  {
   "cell_type": "code",
   "execution_count": 28,
   "metadata": {},
   "outputs": [
    {
     "name": "stdout",
     "output_type": "stream",
     "text": [
      "EBS\n"
     ]
    }
   ],
   "source": [
    "import random\n",
    "\n",
    "my_list = ['Cloud Computing & its types', 'Iaas Paas Saas','Geoloaction Region AZ Edge location','IAM','S3','Cloud Front',\n",
    "           'Storage Gateway','EFS','EBS','Snow Ball','EC2','Load Balancing','Auto Scaling','Lambda','Route53','Billing',\n",
    "           'Cloud Watch','RDS','Dynamo DB','Elastic Cache','VPC','Kinesis','Cloud Formation','Wordpres Site','SQS SNS SWF']\n",
    "print(random.choice(my_list))"
   ]
  },
  {
   "cell_type": "code",
   "execution_count": null,
   "metadata": {},
   "outputs": [],
   "source": []
  },
  {
   "cell_type": "code",
   "execution_count": null,
   "metadata": {},
   "outputs": [],
   "source": []
  }
 ],
 "metadata": {
  "kernelspec": {
   "display_name": "Python 3",
   "language": "python",
   "name": "python3"
  },
  "language_info": {
   "codemirror_mode": {
    "name": "ipython",
    "version": 3
   },
   "file_extension": ".py",
   "mimetype": "text/x-python",
   "name": "python",
   "nbconvert_exporter": "python",
   "pygments_lexer": "ipython3",
   "version": "3.6.4"
  }
 },
 "nbformat": 4,
 "nbformat_minor": 2
}
